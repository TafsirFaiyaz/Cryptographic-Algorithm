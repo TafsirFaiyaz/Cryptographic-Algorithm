{
  "nbformat": 4,
  "nbformat_minor": 0,
  "metadata": {
    "colab": {
      "provenance": []
    },
    "kernelspec": {
      "name": "python3",
      "display_name": "Python 3"
    },
    "language_info": {
      "name": "python"
    }
  },
  "cells": [
    {
      "cell_type": "code",
      "execution_count": null,
      "metadata": {
        "id": "gtdy5PGTd2Lb",
        "colab": {
          "base_uri": "https://localhost:8080/"
        },
        "outputId": "d48a5c2c-eb42-4ef6-df40-95ec4d38ac67"
      },
      "outputs": [
        {
          "output_type": "stream",
          "name": "stdout",
          "text": [
            "Collecting pycryptodome\n",
            "  Downloading pycryptodome-3.23.0-cp37-abi3-manylinux_2_17_x86_64.manylinux2014_x86_64.whl.metadata (3.4 kB)\n",
            "Downloading pycryptodome-3.23.0-cp37-abi3-manylinux_2_17_x86_64.manylinux2014_x86_64.whl (2.3 MB)\n",
            "\u001b[?25l   \u001b[90m━━━━━━━━━━━━━━━━━━━━━━━━━━━━━━━━━━━━━━━━\u001b[0m \u001b[32m0.0/2.3 MB\u001b[0m \u001b[31m?\u001b[0m eta \u001b[36m-:--:--\u001b[0m\r\u001b[2K   \u001b[91m━━━━━\u001b[0m\u001b[90m╺\u001b[0m\u001b[90m━━━━━━━━━━━━━━━━━━━━━━━━━━━━━━━━━━\u001b[0m \u001b[32m0.3/2.3 MB\u001b[0m \u001b[31m9.1 MB/s\u001b[0m eta \u001b[36m0:00:01\u001b[0m\r\u001b[2K   \u001b[91m━━━━━━━━━━━━━━━━━━━━━━━━━━━━━━━━━━━━━━━\u001b[0m\u001b[91m╸\u001b[0m \u001b[32m2.3/2.3 MB\u001b[0m \u001b[31m31.4 MB/s\u001b[0m eta \u001b[36m0:00:01\u001b[0m\r\u001b[2K   \u001b[90m━━━━━━━━━━━━━━━━━━━━━━━━━━━━━━━━━━━━━━━━\u001b[0m \u001b[32m2.3/2.3 MB\u001b[0m \u001b[31m23.2 MB/s\u001b[0m eta \u001b[36m0:00:00\u001b[0m\n",
            "\u001b[?25hInstalling collected packages: pycryptodome\n",
            "Successfully installed pycryptodome-3.23.0\n"
          ]
        }
      ],
      "source": [
        "!pip install pycryptodome"
      ]
    },
    {
      "cell_type": "code",
      "source": [
        "from Crypto.Cipher import DES\n",
        "from Crypto.Random import get_random_bytes"
      ],
      "metadata": {
        "id": "6HkfsxuP6_sC"
      },
      "execution_count": null,
      "outputs": []
    },
    {
      "cell_type": "code",
      "source": [
        "def pad_text(text):\n",
        "    # Ensure the plaintext length is a multiple of 8 bytes (DES block size)\n",
        "    #generate and return the padded_text\n",
        "    pl = 8 - (len(text) % 8)\n",
        "\n",
        "    if pl != 8:\n",
        "        padded_text = text + bytes([pl] * pl)\n",
        "\n",
        "        return padded_text\n",
        "\n",
        "    return text\n",
        "\n",
        "print(pad_text((b\"Messiiii\")))"
      ],
      "metadata": {
        "id": "2YUag_rOe8Ox",
        "colab": {
          "base_uri": "https://localhost:8080/"
        },
        "outputId": "b3172674-8ed7-4921-bc0f-a14a1e803774"
      },
      "execution_count": null,
      "outputs": [
        {
          "output_type": "stream",
          "name": "stdout",
          "text": [
            "b'Messiiii'\n"
          ]
        }
      ]
    },
    {
      "cell_type": "code",
      "source": [
        "def unpad_text(padded_text):\n",
        "    # Remove the padding bytes to get the original plaintext\n",
        "    #to do\n",
        "    pl = padded_text[-1]\n",
        "    padded_text = padded_text[:-pl]\n",
        "\n",
        "\n",
        "    return padded_text\n",
        "\n",
        "print(unpad_text(b'Messi\\x03\\x03\\x03'))"
      ],
      "metadata": {
        "id": "J1oZ0R7LnQXe",
        "colab": {
          "base_uri": "https://localhost:8080/"
        },
        "outputId": "7e1bf144-9816-4986-81f0-13f1cfa4a129"
      },
      "execution_count": null,
      "outputs": [
        {
          "output_type": "stream",
          "name": "stdout",
          "text": [
            "b'Messi'\n"
          ]
        }
      ]
    },
    {
      "cell_type": "code",
      "source": [
        "def des_encrypt(plaintext, key):\n",
        "    #encrypt DES(Mode:ECB) and return the ciphertext\n",
        "    des = DES.new(key, DES.MODE_ECB)\n",
        "    padded_text = pad_text(plaintext)\n",
        "    ciphertext = des.encrypt(padded_text)\n",
        "\n",
        "    return ciphertext"
      ],
      "metadata": {
        "id": "N7Yr6dX6fFEd"
      },
      "execution_count": null,
      "outputs": []
    },
    {
      "cell_type": "code",
      "source": [
        "plaintext = b\"From Wikipedia, the free encyclopedia The following notable deaths occurred in 2025. Names are reported under the date of death, in alphabetical order. A typical entry reports information in the following sequence: Name, age, country of citizenship at birth, subsequent nationality (if applicable), what subject was noted for, cause of death (if known), and a reference.\"\n",
        "# Generate a random 64-bit (8-byte) key\n",
        "key= get_random_bytes(8)\n",
        "#to do\n",
        "\n",
        "print(\"Original plaintext:\", plaintext.decode('utf-8'))\n",
        "print(\"Original key (in bytes):\", key)\n",
        "\n",
        "plaintext = pad_text(plaintext)\n",
        "\n",
        "ciphertext = des_encrypt(plaintext, key)\n",
        "print(\"Encrypted ciphertext (in bytes):\", ciphertext)"
      ],
      "metadata": {
        "id": "zdMdYJzofDCi",
        "colab": {
          "base_uri": "https://localhost:8080/"
        },
        "outputId": "fd065836-f066-4359-d683-ac3ae6354735"
      },
      "execution_count": null,
      "outputs": [
        {
          "output_type": "stream",
          "name": "stdout",
          "text": [
            "Original plaintext: From Wikipedia, the free encyclopedia The following notable deaths occurred in 2025. Names are reported under the date of death, in alphabetical order. A typical entry reports information in the following sequence: Name, age, country of citizenship at birth, subsequent nationality (if applicable), what subject was noted for, cause of death (if known), and a reference.\n",
            "Original key (in bytes): b'\\x06W\\x1ei\\x1df\\xd3J'\n",
            "Encrypted ciphertext (in bytes): b\"\\xea\\x8d!$\\x1b\\x939\\x08\\x04\\xe7\\x96\\xaf\\x0b/\\xebq>\\x0b\\x7fSO\\xa8\\\\\\x8ba\\x13K\\x95+\\xde\\ns~\\xa6\\xa1\\x84<O*VF\\xf6\\xb9l\\x96\\x00[J\\xaa\\x1bs\\xa4_\\xe8=\\x9a\\xca\\x7f!\\xeb\\x0b\\x8b\\xb8C\\xfa\\x87f\\x9c\\xe7\\x8f*\\xd466\\x92\\x18\\x9e\\x81\\xa6\\xe7LJp\\x1d \\xcf<\\xa6\\x16$\\xc1\\xbb\\xe3Q}\\xf3\\xe7E\\x06\\x85\\x0bS\\xd2\\xdf\\xdbu\\xe8\\x10$8~\\xfa\\xab\\xdd\\xbc\\xe5\\x95q\\xd0-\\xef\\xc5\\xd4\\xaf\\x1b\\x07\\x88C`\\x95\\xb4\\xd5\\xb6\\xf0\\xa6\\x8cx\\xb1\\x86<\\xc2\\x87\\xa0\\xa1\\x83\\x11*\\x99\\x8e\\x1f\\xe8\\x1f\\x92\\xc3,\\xa1v\\xf8\\t3\\x10j\\x96\\x981\\xbf\\xc7\\\\\\xe7B0\\xff\\xeb\\x0e\\x0bE9\\x0e\\xabwD\\xad\\xe6\\xe50_@#z}\\xbb\\x12\\xe5\\xcb\\xa9\\xd8|\\x9aE\\x05 I\\xcd\\xa83\\x08Ll\\xa7#\\x19\\x9e\\x15r\\xcb\\xab\\x7fF}\\x83\\x14\\xb2i\\xd0\\x9c\\xc1\\x96%i\\x85o\\\\\\xd9\\xec\\x02\\x0f\\x04\\x0f\\x14\\xa8\\xd9\\xfa\\xc2\\x08\\x1d\\xb9\\x13\\x98\\x85>P\\xda\\x82\\xd3\\xe3\\xd1\\xe0Ovc\\xae\\nk~\\xe0\\xf6M\\x1d\\x94\\xd2\\x9c\\x05\\xd5\\x18r!6\\\\\\x05\\xb5\\xe1\\xdb\\xe7\\xe7755\\x89\\xaf\\xb2\\x04\\xa0U\\x1a\\r\\xa6\\xb8\\xc5\\x9ee\\xec\\x8fM\\x83\\x1b\\xc2\\xaf\\x88\\xe6\\xe8\\xfb\\x81'Ch\\x90\\xd3p\\x84n\\xc3\\x92\\\\P\\x80\\xda\\xca\\x97\\xc9\\xa2\\xbd\\xc6\\xa1.\\x0f\\x8a\\x0f/d\\x8b[\\xac\\xf1Z\\xfd\\xce\\xf1\\xae\\x10\\xab\\xb8/b\\x07\\xd1_9\\n\\x95\\xadW\\x89\\t\\xf5:\\x19\\xea\\xb3\\xda;\\xc1S\\xf5y=\\x9e\"\n"
          ]
        }
      ]
    },
    {
      "cell_type": "code",
      "source": [
        "def des_decrypt(ciphertext, key):\n",
        "  #decrypt DES(Mode:ECB) and return the plaintext\n",
        "    des = DES.new(key, DES.MODE_ECB)\n",
        "\n",
        "    plaintext = des.decrypt(ciphertext)\n",
        "\n",
        "    return plaintext\n",
        "\n",
        "print(des_decrypt(b'\\x80p+Z\\xbc8\\xc4\\xbb\\xd2;1\\xc5\\xb6\\xcd:\\xedtG\\xc9N\\xfe_\\x8e\\xe7', b'\\xd0?\\xc5\\xe4K\\xe81B'))"
      ],
      "metadata": {
        "id": "u2i13KIUfL21",
        "colab": {
          "base_uri": "https://localhost:8080/"
        },
        "outputId": "8a1173b0-33a5-43bf-d498-3859a3ec27ef"
      },
      "execution_count": null,
      "outputs": [
        {
          "output_type": "stream",
          "name": "stdout",
          "text": [
            "b'This is a secret text\\x03\\x03\\x03'\n"
          ]
        }
      ]
    },
    {
      "cell_type": "code",
      "source": [
        "# Replace these with your ciphertext and key\n",
        "ciphertext = b\"\\xea\\x8d!$\\x1b\\x939\\x08\\x04\\xe7\\x96\\xaf\\x0b/\\xebq>\\x0b\\x7fSO\\xa8\\\\\\x8ba\\x13K\\x95+\\xde\\ns~\\xa6\\xa1\\x84<O*VF\\xf6\\xb9l\\x96\\x00[J\\xaa\\x1bs\\xa4_\\xe8=\\x9a\\xca\\x7f!\\xeb\\x0b\\x8b\\xb8C\\xfa\\x87f\\x9c\\xe7\\x8f*\\xd466\\x92\\x18\\x9e\\x81\\xa6\\xe7LJp\\x1d \\xcf<\\xa6\\x16$\\xc1\\xbb\\xe3Q}\\xf3\\xe7E\\x06\\x85\\x0bS\\xd2\\xdf\\xdbu\\xe8\\x10$8~\\xfa\\xab\\xdd\\xbc\\xe5\\x95q\\xd0-\\xef\\xc5\\xd4\\xaf\\x1b\\x07\\x88C`\\x95\\xb4\\xd5\\xb6\\xf0\\xa6\\x8cx\\xb1\\x86<\\xc2\\x87\\xa0\\xa1\\x83\\x11*\\x99\\x8e\\x1f\\xe8\\x1f\\x92\\xc3,\\xa1v\\xf8\\t3\\x10j\\x96\\x981\\xbf\\xc7\\\\\\xe7B0\\xff\\xeb\\x0e\\x0bE9\\x0e\\xabwD\\xad\\xe6\\xe50_@#z}\\xbb\\x12\\xe5\\xcb\\xa9\\xd8|\\x9aE\\x05 I\\xcd\\xa83\\x08Ll\\xa7#\\x19\\x9e\\x15r\\xcb\\xab\\x7fF}\\x83\\x14\\xb2i\\xd0\\x9c\\xc1\\x96%i\\x85o\\\\\\xd9\\xec\\x02\\x0f\\x04\\x0f\\x14\\xa8\\xd9\\xfa\\xc2\\x08\\x1d\\xb9\\x13\\x98\\x85>P\\xda\\x82\\xd3\\xe3\\xd1\\xe0Ovc\\xae\\nk~\\xe0\\xf6M\\x1d\\x94\\xd2\\x9c\\x05\\xd5\\x18r!6\\\\\\x05\\xb5\\xe1\\xdb\\xe7\\xe7755\\x89\\xaf\\xb2\\x04\\xa0U\\x1a\\r\\xa6\\xb8\\xc5\\x9ee\\xec\\x8fM\\x83\\x1b\\xc2\\xaf\\x88\\xe6\\xe8\\xfb\\x81'Ch\\x90\\xd3p\\x84n\\xc3\\x92\\\\P\\x80\\xda\\xca\\x97\\xc9\\xa2\\xbd\\xc6\\xa1.\\x0f\\x8a\\x0f/d\\x8b[\\xac\\xf1Z\\xfd\\xce\\xf1\\xae\\x10\\xab\\xb8/b\\x07\\xd1_9\\n\\x95\\xadW\\x89\\t\\xf5:\\x19\\xea\\xb3\\xda;\\xc1S\\xf5y=\\x9e\"\n",
        "\n",
        "key = b'\\x06W\\x1ei\\x1df\\xd3J'\n",
        "\n",
        "decrypted_text = des_decrypt(ciphertext, key)\n",
        "original_text = unpad_text(decrypted_text)\n",
        "\n",
        "print(\"Decrypted text:\", original_text.decode('utf-8'))"
      ],
      "metadata": {
        "id": "8IfaHQVvfO4m",
        "colab": {
          "base_uri": "https://localhost:8080/"
        },
        "outputId": "95ab83e0-bfd1-4eae-8181-e3a11371bac7"
      },
      "execution_count": null,
      "outputs": [
        {
          "output_type": "stream",
          "name": "stdout",
          "text": [
            "Decrypted text: From Wikipedia, the free encyclopedia The following notable deaths occurred in 2025. Names are reported under the date of death, in alphabetical order. A typical entry reports information in the following sequence: Name, age, country of citizenship at birth, subsequent nationality (if applicable), what subject was noted for, cause of death (if known), and a reference.\n"
          ]
        }
      ]
    },
    {
      "cell_type": "code",
      "source": [
        "#Implement Double DES and check if your ciphertext matches the provided output.\n",
        "plaintext = b\"I am Batman\"\n",
        "KeyA = b'\\x01\\xadWR\\xeb\\x1a\\xa2\\x86'\n",
        "KeyB = b'\\xf7\\xcf\\xd6r\\xd9\\xa1\\x141'\n",
        "Given_Output = b'\\xd2Em\\x06-1\\xf7$\\x0c\\xaaI\\xf0\\xc3\\x00\\xbd}'\n",
        "\n",
        "#to do\n",
        "padded_text = pad_text(plaintext)\n",
        "enc1 = des_encrypt(padded_text, KeyA)\n",
        "enc2 = des_encrypt(enc1, KeyB)\n",
        "print(enc2)"
      ],
      "metadata": {
        "id": "jWwMSldIgfxl",
        "colab": {
          "base_uri": "https://localhost:8080/"
        },
        "outputId": "35375ef5-8435-45af-8e99-da637a3d6360"
      },
      "execution_count": null,
      "outputs": [
        {
          "output_type": "stream",
          "name": "stdout",
          "text": [
            "b'\\xd2Em\\x06-1\\xf7$\\x0c\\xaaI\\xf0\\xc3\\x00\\xbd}'\n"
          ]
        }
      ]
    },
    {
      "cell_type": "code",
      "source": [
        "#Pattern Repetition in DES ECB Mode Ciphertext\n",
        "plaintext = b\"ABCDEFGHABCDEFGHABCDEFGH\"\n",
        "key = get_random_bytes(8)  # Generate a random 64-bit (8-byte) key\n",
        "\n",
        "padtext = pad_text(plaintext)\n",
        "c1 = des_encrypt(padtext,key)\n",
        "print(c1)"
      ],
      "metadata": {
        "id": "bmFUAlsPXeCx",
        "colab": {
          "base_uri": "https://localhost:8080/"
        },
        "outputId": "16116843-c296-4bad-99b5-185c75ad005d"
      },
      "execution_count": null,
      "outputs": [
        {
          "output_type": "stream",
          "name": "stdout",
          "text": [
            "b'O\\xbf\\xb57\\xa7\\x9c\\xf1cO\\xbf\\xb57\\xa7\\x9c\\xf1cO\\xbf\\xb57\\xa7\\x9c\\xf1c'\n"
          ]
        }
      ]
    }
  ]
}